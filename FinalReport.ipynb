{
 "cells": [
  {
   "cell_type": "markdown",
   "id": "aabfb8c9-3ebb-483f-87a0-2a6252cb8d0f",
   "metadata": {},
   "source": [
    "# Final Project Report"
   ]
  },
  {
   "cell_type": "markdown",
   "id": "ba70b015-3d28-412d-88a4-e2808cce2e3b",
   "metadata": {},
   "source": [
    "# Introduction:"
   ]
  },
  {
   "cell_type": "markdown",
   "id": "47ad6ec4-9bec-4a7d-a03e-e836b66eb6e6",
   "metadata": {},
   "source": [
    "# Methods & Results:"
   ]
  },
  {
   "cell_type": "code",
   "execution_count": null,
   "id": "76d0ba56-f499-4214-a9f5-377bf70db848",
   "metadata": {},
   "outputs": [],
   "source": [
    "# Discussion:"
   ]
  }
 ],
 "metadata": {
  "kernelspec": {
   "display_name": "R",
   "language": "R",
   "name": "ir"
  },
  "language_info": {
   "codemirror_mode": "r",
   "file_extension": ".r",
   "mimetype": "text/x-r-source",
   "name": "R",
   "pygments_lexer": "r",
   "version": "4.3.3"
  }
 },
 "nbformat": 4,
 "nbformat_minor": 5
}
