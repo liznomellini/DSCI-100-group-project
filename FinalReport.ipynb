{
 "cells": [
  {
   "cell_type": "markdown",
   "id": "aabfb8c9-3ebb-483f-87a0-2a6252cb8d0f",
   "metadata": {},
   "source": [
    "# Final Project Report"
   ]
  },
  {
   "cell_type": "markdown",
   "id": "ba70b015-3d28-412d-88a4-e2808cce2e3b",
   "metadata": {},
   "source": [
    "# Introduction:"
   ]
  },
  {
   "cell_type": "code",
   "execution_count": null,
   "id": "691ca095-5781-4156-ab5c-a80b25b4827c",
   "metadata": {},
   "outputs": [],
   "source": [
    "#corey adds this part"
   ]
  },
  {
   "cell_type": "markdown",
   "id": "47ad6ec4-9bec-4a7d-a03e-e836b66eb6e6",
   "metadata": {},
   "source": [
    "# Methods & Results:"
   ]
  },
  {
   "cell_type": "code",
   "execution_count": null,
   "id": "c75029ca-808c-4c54-be69-c0429211cfd5",
   "metadata": {},
   "outputs": [],
   "source": [
    "#add method part and then perle will do the tune thing for knn "
   ]
  },
  {
   "cell_type": "markdown",
   "id": "a10796ee-64c8-4195-8323-1631d394a684",
   "metadata": {},
   "source": [
    "# Discussion:"
   ]
  },
  {
   "cell_type": "code",
   "execution_count": null,
   "id": "bc13a52a-22b7-40c6-b78f-36e68973fd25",
   "metadata": {},
   "outputs": [],
   "source": []
  }
 ],
 "metadata": {
  "kernelspec": {
   "display_name": "R",
   "language": "R",
   "name": "ir"
  },
  "language_info": {
   "codemirror_mode": "r",
   "file_extension": ".r",
   "mimetype": "text/x-r-source",
   "name": "R",
   "pygments_lexer": "r",
   "version": "4.3.3"
  }
 },
 "nbformat": 4,
 "nbformat_minor": 5
}
